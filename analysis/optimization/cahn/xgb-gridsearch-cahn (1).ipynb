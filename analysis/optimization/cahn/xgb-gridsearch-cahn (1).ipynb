{
 "cells": [
  {
   "cell_type": "markdown",
   "id": "b9f26227",
   "metadata": {},
   "source": [
    "# Searching for the optimal parameters"
   ]
  },
  {
   "cell_type": "code",
   "execution_count": 1,
   "id": "58e5b83d",
   "metadata": {},
   "outputs": [],
   "source": [
    "#!conda install -y xgboost numpy pandas scipy"
   ]
  },
  {
   "cell_type": "code",
   "execution_count": 2,
   "id": "bc5bf00a",
   "metadata": {},
   "outputs": [],
   "source": [
    "#pip install -U joblib"
   ]
  },
  {
   "cell_type": "code",
   "execution_count": 3,
   "id": "9c3f1016",
   "metadata": {},
   "outputs": [
    {
     "name": "stderr",
     "output_type": "stream",
     "text": [
      "/home/ec2-user/anaconda3/envs/python3/lib/python3.8/site-packages/xgboost/compat.py:36: FutureWarning: pandas.Int64Index is deprecated and will be removed from pandas in a future version. Use pandas.Index with the appropriate dtype instead.\n",
      "  from pandas import MultiIndex, Int64Index\n"
     ]
    }
   ],
   "source": [
    "from xgboost import XGBClassifier\n",
    "from sklearn.ensemble import RandomForestClassifier\n",
    "from sklearn.tree import DecisionTreeClassifier\n",
    "from sklearn.model_selection import train_test_split\n",
    "from sklearn.preprocessing import StandardScaler, Normalizer\n",
    "from sklearn import metrics\n",
    "import numpy as np\n",
    "import pandas as pd\n",
    "import pickle\n",
    "from sklearn.datasets import fetch_openml"
   ]
  },
  {
   "cell_type": "code",
   "execution_count": 4,
   "id": "9d49459e",
   "metadata": {},
   "outputs": [],
   "source": [
    "from sklearn.model_selection import GridSearchCV"
   ]
  },
  {
   "cell_type": "code",
   "execution_count": 5,
   "id": "16284d59",
   "metadata": {},
   "outputs": [
    {
     "data": {
      "text/plain": [
       "dict_keys(['data', 'target', 'frame', 'categories', 'feature_names', 'target_names', 'DESCR', 'details', 'url'])"
      ]
     },
     "execution_count": 5,
     "metadata": {},
     "output_type": "execute_result"
    }
   ],
   "source": [
    "# import the mnist dataset\n",
    "mnist = fetch_openml('mnist_784', version=1)\n",
    "mnist.keys()"
   ]
  },
  {
   "cell_type": "code",
   "execution_count": 6,
   "id": "91bd7c81",
   "metadata": {},
   "outputs": [
    {
     "name": "stdout",
     "output_type": "stream",
     "text": [
      "(70000, 784)\n",
      "(70000,)\n"
     ]
    }
   ],
   "source": [
    "# separate features and target\n",
    "X, y = mnist[\"data\"], mnist[\"target\"]\n",
    "print(X.shape)\n",
    "print(y.shape)"
   ]
  },
  {
   "cell_type": "code",
   "execution_count": 7,
   "id": "827f9fa0",
   "metadata": {},
   "outputs": [],
   "source": [
    "# train-test split\n",
    "X_train, X_test, y_train, y_test = train_test_split(X, y, \n",
    "                                       test_size=0.1, \n",
    "                                       random_state=42)"
   ]
  },
  {
   "cell_type": "markdown",
   "id": "32ffd2a6",
   "metadata": {},
   "source": [
    "## Data Augmentation"
   ]
  },
  {
   "cell_type": "code",
   "execution_count": 8,
   "id": "36b16e24",
   "metadata": {},
   "outputs": [
    {
     "data": {
      "text/plain": [
       "(63000, 28, 28)"
      ]
     },
     "execution_count": 8,
     "metadata": {},
     "output_type": "execute_result"
    }
   ],
   "source": [
    "from scipy.ndimage import shift\n",
    "X_aug_down = shift(np.array(X_train).reshape(63000,28,28), [0,1,0], cval=0)\n",
    "X_aug_down.shape"
   ]
  },
  {
   "cell_type": "code",
   "execution_count": 9,
   "id": "3b5a3d9e",
   "metadata": {},
   "outputs": [
    {
     "data": {
      "text/plain": [
       "(63000, 28, 28)"
      ]
     },
     "execution_count": 9,
     "metadata": {},
     "output_type": "execute_result"
    }
   ],
   "source": [
    "X_aug_up = shift(np.array(X_train).reshape(63000,28,28), [0,-1,0], cval=0)\n",
    "X_aug_up.shape"
   ]
  },
  {
   "cell_type": "code",
   "execution_count": 10,
   "id": "712e2a36",
   "metadata": {},
   "outputs": [
    {
     "data": {
      "text/plain": [
       "(63000, 28, 28)"
      ]
     },
     "execution_count": 10,
     "metadata": {},
     "output_type": "execute_result"
    }
   ],
   "source": [
    "X_aug_right = shift(np.array(X_train).reshape(63000,28,28), [0,0,1], cval=0)\n",
    "X_aug_right.shape"
   ]
  },
  {
   "cell_type": "code",
   "execution_count": 11,
   "id": "84628850",
   "metadata": {},
   "outputs": [
    {
     "data": {
      "text/plain": [
       "(63000, 28, 28)"
      ]
     },
     "execution_count": 11,
     "metadata": {},
     "output_type": "execute_result"
    }
   ],
   "source": [
    "X_aug_left = shift(np.array(X_train).reshape(63000,28,28), [0,0,-1], cval=0)\n",
    "X_aug_left.shape"
   ]
  },
  {
   "cell_type": "code",
   "execution_count": 12,
   "id": "dab03cb6",
   "metadata": {},
   "outputs": [
    {
     "data": {
      "text/plain": [
       "(252000, 28, 28)"
      ]
     },
     "execution_count": 12,
     "metadata": {},
     "output_type": "execute_result"
    }
   ],
   "source": [
    "X_temp = np.concatenate((X_aug_down, X_aug_up, X_aug_right, X_aug_left))\n",
    "X_temp.shape"
   ]
  },
  {
   "cell_type": "code",
   "execution_count": 13,
   "id": "3d4b3e71",
   "metadata": {},
   "outputs": [
    {
     "data": {
      "text/plain": [
       "(315000, 784)"
      ]
     },
     "execution_count": 13,
     "metadata": {},
     "output_type": "execute_result"
    }
   ],
   "source": [
    "# Augmented training dataset generated and stored in X_aug and y_aug.\n",
    "X_aug = np.concatenate((X_train, X_temp.reshape(252000, 784)))\n",
    "X_aug.shape"
   ]
  },
  {
   "cell_type": "code",
   "execution_count": 14,
   "id": "e1018e33",
   "metadata": {},
   "outputs": [
    {
     "data": {
      "text/plain": [
       "(315000,)"
      ]
     },
     "execution_count": 14,
     "metadata": {},
     "output_type": "execute_result"
    }
   ],
   "source": [
    "y_aug = np.concatenate((y_train, y_train, y_train, y_train, y_train))\n",
    "y_aug.shape"
   ]
  },
  {
   "cell_type": "code",
   "execution_count": 15,
   "id": "a1e27f24",
   "metadata": {},
   "outputs": [
    {
     "name": "stdout",
     "output_type": "stream",
     "text": [
      "315000\n",
      "315000\n"
     ]
    }
   ],
   "source": [
    "X_train = X_aug\n",
    "y_train = y_aug\n",
    "\n",
    "\n",
    "print(len(X_train))\n",
    "print(len(y_train))"
   ]
  },
  {
   "cell_type": "markdown",
   "id": "61a100a7",
   "metadata": {},
   "source": [
    "## Preprocessing"
   ]
  },
  {
   "cell_type": "code",
   "execution_count": 16,
   "id": "4ea53512",
   "metadata": {},
   "outputs": [
    {
     "name": "stderr",
     "output_type": "stream",
     "text": [
      "/home/ec2-user/anaconda3/envs/python3/lib/python3.8/site-packages/sklearn/base.py:438: UserWarning: X has feature names, but StandardScaler was fitted without feature names\n",
      "  warnings.warn(\n"
     ]
    }
   ],
   "source": [
    "# standardize\n",
    "scaler = StandardScaler()\n",
    "X_train_scaled = scaler.fit_transform(X_train.astype(np.float64))\n",
    "X_test_scaled = scaler.transform(X_test.astype(np.float64))\n",
    "\n",
    "#X_train_scaled = X_train\n",
    "#X_test_scaled = X_test"
   ]
  },
  {
   "cell_type": "markdown",
   "id": "aec1a951",
   "metadata": {},
   "source": [
    "## XG Boost"
   ]
  },
  {
   "cell_type": "markdown",
   "id": "51d7a3d6",
   "metadata": {},
   "source": [
    "There are in general two ways that you can control overfitting in XGBoost:\n",
    "\n",
    "- The first way is to directly control model complexity.\n",
    "\n",
    "    - This includes max_depth, min_child_weight and gamma.\n",
    "\n",
    "- The second way is to add randomness to make training robust to noise.\n",
    "\n",
    "    - This includes subsample and colsample_bytree.\n",
    "\n",
    "    - You can also reduce stepsize eta. Remember to increase num_round when you do so.\n",
    "\n",
    "[source](https://xgboost.readthedocs.io/en/stable/tutorials/param_tuning.html#:~:text=There%20are%20in,you%20do%20so.)"
   ]
  },
  {
   "cell_type": "code",
   "execution_count": 17,
   "id": "d840c673",
   "metadata": {},
   "outputs": [],
   "source": [
    "# modeling: XGBoost\n",
    "model = XGBClassifier()"
   ]
  },
  {
   "cell_type": "markdown",
   "id": "bf696ea2",
   "metadata": {},
   "source": [
    "Gridsearch suggestions:  \n",
    "https://towardsdatascience.com/doing-xgboost-hyper-parameter-tuning-the-smart-way-part-1-of-2-f6d255a45dde\n",
    "\n",
    "Using this example but simplifying the grid to conserve time.\n"
   ]
  },
  {
   "cell_type": "code",
   "execution_count": 18,
   "id": "e2e1a862",
   "metadata": {},
   "outputs": [],
   "source": [
    "# define your parameter grid \n",
    "\n",
    "param_grid = {\n",
    "    \"learning_rate\"     : [ 0.10, 0.15, 0.30 ] ,\n",
    "     \"max_depth\"        : [ 3,  15],\n",
    "     \"min_child_weight\" : [ 1 ],\n",
    "     \"gamma\"            : [ 0.0 ],\n",
    "     \"colsample_bytree\" : [ 0.3,  0.5  ] \n",
    "}"
   ]
  },
  {
   "cell_type": "code",
   "execution_count": 19,
   "id": "1c098d11",
   "metadata": {},
   "outputs": [],
   "source": [
    "# establish cross-validation and gridsearch \n",
    "# note: setting cross-validation =2 to save time\n",
    "# xgb has cross-validation built in so repeating here is unnecessary\n",
    "xgb_grid = GridSearchCV(model, param_grid, verbose=0, cv=2, n_jobs=-1)"
   ]
  },
  {
   "cell_type": "code",
   "execution_count": null,
   "id": "65d27af6",
   "metadata": {},
   "outputs": [],
   "source": [
    "# conduct the search (this will take a while)\n",
    "xgb_grid.fit(X_train_scaled, y_train)"
   ]
  },
  {
   "cell_type": "code",
   "execution_count": null,
   "id": "8382232a",
   "metadata": {},
   "outputs": [],
   "source": [
    "# see the best parameters and their score\n",
    "print(\"Best parameters:\")\n",
    "print(xgb_grid.best_params_)\n",
    "print(\"Best score in grid search:\")\n",
    "print(xgb_grid.best_score_)\n",
    "print(\"best model from grid search:\")\n",
    "print(xgb_grid.score(X_test_scaled, y_test))"
   ]
  },
  {
   "cell_type": "code",
   "execution_count": null,
   "id": "040cd67c",
   "metadata": {},
   "outputs": [],
   "source": [
    "# predict\n",
    "y_preds=xgb_grid.predict(X_test_scaled)\n",
    "print(list(y_preds[:10]))\n",
    "print(list(y_test[:10]))"
   ]
  },
  {
   "cell_type": "code",
   "execution_count": null,
   "id": "a6f22a5a",
   "metadata": {},
   "outputs": [],
   "source": [
    "# evaluate\n",
    "print('Accuracy:', metrics.accuracy_score(y_test, y_preds))\n",
    "print('Precision:', metrics.precision_score(y_test, y_preds,average='macro'))\n",
    "print('Recall:', metrics.recall_score(y_test, y_preds,average='macro'))\n",
    "print('F1 Score:', metrics.f1_score(y_test, y_preds,average='macro'))"
   ]
  },
  {
   "cell_type": "markdown",
   "id": "48856af5",
   "metadata": {},
   "source": [
    "## Pickle the model"
   ]
  },
  {
   "cell_type": "code",
   "execution_count": null,
   "id": "aee32f45",
   "metadata": {},
   "outputs": [],
   "source": [
    "# xgboost\n",
    "f = open('xgb_grid_model.pkl', 'wb')\n",
    "pickle.dump(xgb_grid, f)\n",
    "f.close() "
   ]
  },
  {
   "cell_type": "markdown",
   "id": "43e9f343",
   "metadata": {},
   "source": [
    "## END"
   ]
  }
 ],
 "metadata": {
  "kernelspec": {
   "display_name": "conda_python3",
   "language": "python",
   "name": "conda_python3"
  },
  "language_info": {
   "codemirror_mode": {
    "name": "ipython",
    "version": 3
   },
   "file_extension": ".py",
   "mimetype": "text/x-python",
   "name": "python",
   "nbconvert_exporter": "python",
   "pygments_lexer": "ipython3",
   "version": "3.8.12"
  }
 },
 "nbformat": 4,
 "nbformat_minor": 5
}
