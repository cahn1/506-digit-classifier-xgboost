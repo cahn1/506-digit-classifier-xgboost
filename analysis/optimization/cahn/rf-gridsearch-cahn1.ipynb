{
 "cells": [
  {
   "cell_type": "code",
   "execution_count": null,
   "id": "d3280e55",
   "metadata": {},
   "outputs": [],
   "source": [
    "!conda install -y xgboost numpy pandas scipy"
   ]
  },
  {
   "cell_type": "code",
   "execution_count": null,
   "id": "60af3a33",
   "metadata": {},
   "outputs": [],
   "source": [
    "from xgboost import XGBClassifier\n",
    "from sklearn.ensemble import RandomForestClassifier\n",
    "from sklearn.tree import DecisionTreeClassifier\n",
    "from sklearn.model_selection import train_test_split\n",
    "from sklearn.preprocessing import StandardScaler, Normalizer\n",
    "from sklearn import metrics\n",
    "import numpy as np\n",
    "import pandas as pd\n",
    "import pickle\n",
    "from sklearn.datasets import fetch_openml"
   ]
  },
  {
   "cell_type": "code",
   "execution_count": null,
   "id": "9f187e53",
   "metadata": {},
   "outputs": [],
   "source": [
    "from sklearn.model_selection import GridSearchCV"
   ]
  },
  {
   "cell_type": "code",
   "execution_count": null,
   "id": "9d4aa732",
   "metadata": {},
   "outputs": [],
   "source": [
    "# import the mnist dataset\n",
    "mnist = fetch_openml('mnist_784', version=1)\n",
    "mnist.keys()"
   ]
  },
  {
   "cell_type": "code",
   "execution_count": null,
   "id": "e84fe8eb",
   "metadata": {},
   "outputs": [],
   "source": [
    "# separate features and target\n",
    "X, y = mnist[\"data\"], mnist[\"target\"]\n",
    "print(X.shape)\n",
    "print(y.shape)"
   ]
  },
  {
   "cell_type": "code",
   "execution_count": null,
   "id": "42acd575",
   "metadata": {},
   "outputs": [],
   "source": [
    "# train-test split\n",
    "X_train, X_test, y_train, y_test = train_test_split(X, y, \n",
    "                                       test_size=0.1, \n",
    "                                       random_state=42)"
   ]
  },
  {
   "cell_type": "code",
   "execution_count": null,
   "id": "4852dd93",
   "metadata": {},
   "outputs": [],
   "source": [
    "print(X_train.shape)\n",
    "print(X_test.shape)"
   ]
  },
  {
   "cell_type": "code",
   "execution_count": null,
   "id": "8c727902",
   "metadata": {},
   "outputs": [],
   "source": [
    "print(y_train.shape)\n",
    "print(y_test.shape)"
   ]
  },
  {
   "cell_type": "markdown",
   "id": "a9ebe58c",
   "metadata": {},
   "source": [
    "## Data Augmentation"
   ]
  },
  {
   "cell_type": "code",
   "execution_count": null,
   "id": "a45a5811",
   "metadata": {},
   "outputs": [],
   "source": [
    "from scipy.ndimage import shift\n",
    "X_aug_down = shift(np.array(X_train).reshape(63000,28,28), [0,1,0], cval=0)\n",
    "X_aug_down.shape"
   ]
  },
  {
   "cell_type": "code",
   "execution_count": null,
   "id": "8e378597",
   "metadata": {},
   "outputs": [],
   "source": [
    "X_aug_up = shift(np.array(X_train).reshape(63000,28,28), [0,-1,0], cval=0)\n",
    "X_aug_up.shape"
   ]
  },
  {
   "cell_type": "code",
   "execution_count": null,
   "id": "bfd3d634",
   "metadata": {},
   "outputs": [],
   "source": [
    "X_aug_right = shift(np.array(X_train).reshape(63000,28,28), [0,0,1], cval=0)\n",
    "X_aug_right.shape"
   ]
  },
  {
   "cell_type": "code",
   "execution_count": null,
   "id": "5bb2ee27",
   "metadata": {},
   "outputs": [],
   "source": [
    "X_aug_left = shift(np.array(X_train).reshape(63000,28,28), [0,0,-1], cval=0)\n",
    "X_aug_left.shape"
   ]
  },
  {
   "cell_type": "code",
   "execution_count": null,
   "id": "c0a14993",
   "metadata": {},
   "outputs": [],
   "source": [
    "X_temp = np.concatenate((X_aug_down, X_aug_up, X_aug_right, X_aug_left))\n",
    "X_temp.shape"
   ]
  },
  {
   "cell_type": "code",
   "execution_count": null,
   "id": "8a24e889",
   "metadata": {},
   "outputs": [],
   "source": [
    "# Augmented training dataset generated and stored in X_aug and y_aug.\n",
    "X_aug = np.concatenate((X_train, X_temp.reshape(252000, 784)))\n",
    "X_aug.shape"
   ]
  },
  {
   "cell_type": "code",
   "execution_count": null,
   "id": "e955aee5",
   "metadata": {},
   "outputs": [],
   "source": [
    "y_aug = np.concatenate((y_train, y_train, y_train, y_train, y_train))\n",
    "y_aug.shape"
   ]
  },
  {
   "cell_type": "code",
   "execution_count": null,
   "id": "cec159d5",
   "metadata": {},
   "outputs": [],
   "source": [
    "X_train = X_aug\n",
    "y_train = y_aug\n",
    "\n",
    "\n",
    "print(len(X_train))\n",
    "print(len(y_train))"
   ]
  },
  {
   "cell_type": "markdown",
   "id": "7ccab6a2",
   "metadata": {},
   "source": [
    "## Preprocessing"
   ]
  },
  {
   "cell_type": "code",
   "execution_count": null,
   "id": "c322c270",
   "metadata": {},
   "outputs": [],
   "source": [
    "# standardize\n",
    "scaler = StandardScaler()\n",
    "X_train_scaled = scaler.fit_transform(X_train)\n",
    "X_test_scaled = scaler.transform(X_test)"
   ]
  },
  {
   "cell_type": "markdown",
   "id": "13c5a91e",
   "metadata": {},
   "source": [
    "## Random Forest"
   ]
  },
  {
   "cell_type": "code",
   "execution_count": null,
   "id": "ab300a0f",
   "metadata": {},
   "outputs": [],
   "source": [
    "# modeling: random forest (arbitrary hyperparameters)\n",
    "model = RandomForestClassifier()"
   ]
  },
  {
   "cell_type": "code",
   "execution_count": null,
   "id": "bd3d66d8",
   "metadata": {},
   "outputs": [],
   "source": [
    "# define your parameter grid \n",
    "param_grid = {\n",
    "                'max_depth': [5, 10, 15],\n",
    "                #'criterion': ['entropy', 'gini'],\n",
    "                'criterion': ['entropy'],\n",
    "                'min_samples_leaf': [6, 10, 20],\n",
    "                'class_weight':['balanced', None],\n",
    "                'n_estimators': [50, 100, 200]\n",
    "            }"
   ]
  },
  {
   "cell_type": "code",
   "execution_count": null,
   "id": "0d5aa004",
   "metadata": {},
   "outputs": [],
   "source": [
    "# establish cross-validation and gridsearch\n",
    "rf_grid = GridSearchCV(model, param_grid, cv=10, verbose=1,n_jobs=-1)"
   ]
  },
  {
   "cell_type": "code",
   "execution_count": null,
   "id": "4b406fb7",
   "metadata": {},
   "outputs": [],
   "source": [
    "# conduct the search (this cell will take a very long time!)\n",
    "rf_grid.fit(X_train_scaled, y_train)"
   ]
  },
  {
   "cell_type": "code",
   "execution_count": null,
   "id": "1e3102ba",
   "metadata": {},
   "outputs": [],
   "source": [
    "# see the best parameters and their score\n",
    "print(\"Best parameters:\")\n",
    "print(rf_grid.best_params_)\n",
    "print(\"Best score in grid search:\")\n",
    "print(rf_grid.best_score_)\n",
    "print(\"best model from grid search:\")\n",
    "print(rf_grid.score(X_test_scaled, y_test))"
   ]
  },
  {
   "cell_type": "code",
   "execution_count": null,
   "id": "cc187589",
   "metadata": {},
   "outputs": [],
   "source": [
    "# predict\n",
    "y_preds=rf_grid.predict(X_test_scaled)\n",
    "print(list(y_preds[:10]))\n",
    "print(list(y_test[:10]))"
   ]
  },
  {
   "cell_type": "code",
   "execution_count": null,
   "id": "1bff446c",
   "metadata": {},
   "outputs": [],
   "source": [
    "# evaluate\n",
    "print('Accuracy:', metrics.accuracy_score(y_test, y_preds))\n",
    "print('Precision:', metrics.precision_score(y_test, y_preds,average='macro'))\n",
    "print('Recall:', metrics.recall_score(y_test, y_preds,average='macro'))\n",
    "print('F1 Score:', metrics.f1_score(y_test, y_preds,average='macro'))"
   ]
  },
  {
   "cell_type": "markdown",
   "id": "3062b85e",
   "metadata": {},
   "source": [
    "## Pickle the model"
   ]
  },
  {
   "cell_type": "code",
   "execution_count": null,
   "id": "e1c4d8d8",
   "metadata": {},
   "outputs": [],
   "source": [
    "# random forest\n",
    "f = open('rf_grid_model.pkl', 'wb')\n",
    "pickle.dump(rf_grid, f)\n",
    "f.close() "
   ]
  },
  {
   "cell_type": "markdown",
   "id": "e853ada2",
   "metadata": {},
   "source": [
    "## END"
   ]
  },
  {
   "cell_type": "code",
   "execution_count": null,
   "id": "8e44494d",
   "metadata": {},
   "outputs": [],
   "source": []
  }
 ],
 "metadata": {
  "kernelspec": {
   "display_name": "conda_python3",
   "language": "python",
   "name": "conda_python3"
  },
  "language_info": {
   "codemirror_mode": {
    "name": "ipython",
    "version": 3
   },
   "file_extension": ".py",
   "mimetype": "text/x-python",
   "name": "python",
   "nbconvert_exporter": "python",
   "pygments_lexer": "ipython3",
   "version": "3.8.12"
  }
 },
 "nbformat": 4,
 "nbformat_minor": 5
}
