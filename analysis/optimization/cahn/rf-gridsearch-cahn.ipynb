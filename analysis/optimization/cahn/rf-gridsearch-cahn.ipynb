{
 "cells": [
  {
   "cell_type": "code",
   "execution_count": 7,
   "id": "12e23078",
   "metadata": {},
   "outputs": [
    {
     "name": "stdout",
     "output_type": "stream",
     "text": [
      "Collecting package metadata (current_repodata.json): done\n",
      "Solving environment: / \n",
      "The environment is inconsistent, please check the package plan carefully\n",
      "The following packages are causing the inconsistency:\n",
      "\n",
      "  - conda-forge/noarch::tqdm==4.62.3=pyhd8ed1ab_0\n",
      "  - conda-forge/noarch::black==21.11b1=pyhd8ed1ab_0\n",
      "  - conda-forge/linux-64::conda-package-handling==1.7.3=py38h497a2fe_1\n",
      "  - conda-forge/noarch::dask-core==2021.11.2=pyhd8ed1ab_0\n",
      "  - conda-forge/noarch::imageio==2.9.0=py_0\n",
      "  - conda-forge/linux-64::pytest==6.2.5=py38h578d9bd_1\n",
      "  - conda-forge/linux-64::watchdog==2.1.6=py38h578d9bd_1\n",
      "  - conda-forge/linux-64::aiohttp==3.8.1=py38h497a2fe_0\n",
      "  - conda-forge/linux-64::astropy==5.0=py38h6c62de6_0\n",
      "  - conda-forge/linux-64::bokeh==2.4.2=py38h578d9bd_0\n",
      "  - conda-forge/linux-64::distributed==2021.11.2=py38h578d9bd_0\n",
      "  - conda-forge/noarch::flask==2.0.2=pyhd8ed1ab_0\n",
      "  - conda-forge/linux-64::matplotlib-base==3.5.0=py38hf4fb855_0\n",
      "  - conda-forge/noarch::nbformat==5.1.3=pyhd8ed1ab_0\n",
      "  - conda-forge/noarch::pylint==2.12.1=pyhd8ed1ab_0\n",
      "  - conda-forge/noarch::dask==2021.11.2=pyhd8ed1ab_0\n",
      "  - conda-forge/noarch::nbclient==0.5.9=pyhd8ed1ab_0\n",
      "  - conda-forge/noarch::networkx==2.6.3=pyhd8ed1ab_1\n",
      "  - conda-forge/noarch::python-lsp-server==1.3.2=pyhd8ed1ab_0\n",
      "  - conda-forge/noarch::seaborn-base==0.11.2=pyhd8ed1ab_0\n",
      "  - conda-forge/linux-64::nbconvert==6.3.0=py38h578d9bd_1\n",
      "  - conda-forge/noarch::pyls-spyder==0.4.0=pyhd8ed1ab_0\n",
      "  - conda-forge/noarch::python-lsp-black==1.0.0=pyhd8ed1ab_0\n",
      "  - conda-forge/noarch::requests==2.26.0=pyhd8ed1ab_1\n",
      "  - conda-forge/noarch::seaborn==0.11.2=hd8ed1ab_0\n",
      "  - conda-forge/noarch::anaconda-client==1.8.0=pyhd8ed1ab_0\n",
      "  - conda-forge/linux-64::conda==4.11.0=py38h578d9bd_0\n",
      "  - conda-forge/noarch::cookiecutter==1.7.0=py_0\n",
      "  - conda-forge/noarch::jupyter_server==1.12.1=pyhd8ed1ab_0\n",
      "  - conda-forge/linux-64::matplotlib==3.5.0=py38h578d9bd_0\n",
      "  - conda-forge/noarch::pooch==1.5.2=pyhd8ed1ab_0\n",
      "  - conda-forge/noarch::anaconda-project==0.10.2=pyhd8ed1ab_0\n",
      "  - defaults/noarch::conda-token==0.3.0=pyhd3eb1b0_0\n",
      "  - conda-forge/noarch::ipyparallel==8.0.0=pyhd8ed1ab_0\n",
      "  - conda-forge/noarch::jupyterlab_server==2.8.2=pyhd8ed1ab_0\n",
      "  - conda-forge/noarch::notebook==6.4.6=pyha770c72_0\n",
      "  - conda-forge/linux-64::scikit-image==0.18.3=py38h43a58ef_0\n",
      "  - conda-forge/linux-64::nb_conda==2.2.1=py38h578d9bd_4\n",
      "  - conda-forge/noarch::nbclassic==0.3.4=pyhd8ed1ab_0\n",
      "  - conda-forge/linux-64::widgetsnbextension==3.5.2=py38h578d9bd_1\n",
      "  - conda-forge/noarch::ipywidgets==7.6.5=pyhd8ed1ab_0\n",
      "  - conda-forge/noarch::jupyterlab==3.2.4=pyhd8ed1ab_0\n",
      "  - conda-forge/linux-64::jupyter==1.0.0=py38h578d9bd_7\n",
      "  - conda-forge/noarch::numpydoc==1.1.0=py_1\n",
      "  - conda-forge/linux-64::spyder==5.2.0=py38h578d9bd_0\n",
      "  - conda-forge/noarch::sphinxcontrib-serializinghtml==1.1.5=pyhd8ed1ab_1\n",
      "  - conda-forge/noarch::sphinxcontrib-websupport==1.2.4=pyhd8ed1ab_1\n",
      "  - defaults/linux-64::_anaconda_depends==2021.11=py38_0\n",
      "done\n",
      "\n",
      "\n",
      "==> WARNING: A newer version of conda exists. <==\n",
      "  current version: 4.8.4\n",
      "  latest version: 4.13.0\n",
      "\n",
      "Please update conda by running\n",
      "\n",
      "    $ conda update -n base -c defaults conda\n",
      "\n",
      "\n",
      "\n",
      "## Package Plan ##\n",
      "\n",
      "  environment location: /home/ec2-user/anaconda3/envs/python3\n",
      "\n",
      "  added / updated specs:\n",
      "    - numpy\n",
      "    - pandas\n",
      "    - scipy\n",
      "    - xgboost\n",
      "\n",
      "\n",
      "The following packages will be downloaded:\n",
      "\n",
      "    package                    |            build\n",
      "    ---------------------------|-----------------\n",
      "    _py-xgboost-mutex-2.0      |            cpu_0           8 KB  conda-forge\n",
      "    ca-certificates-2022.5.18.1|       ha878542_0         144 KB  conda-forge\n",
      "    certifi-2022.5.18.1        |   py38h578d9bd_0         150 KB  conda-forge\n",
      "    colorama-0.4.4             |     pyh9f0ad1d_0          18 KB  conda-forge\n",
      "    dataclasses-0.8            |     pyhc8e2a94_3          10 KB  conda-forge\n",
      "    docutils-0.18.1            |   py38h578d9bd_1         737 KB  conda-forge\n",
      "    fsspec-2022.5.0            |     pyhd8ed1ab_0          96 KB  conda-forge\n",
      "    jsonschema-4.5.1           |     pyhd8ed1ab_0          57 KB  conda-forge\n",
      "    libxgboost-1.5.1           |   cpu_h3d145d1_2         3.6 MB  conda-forge\n",
      "    lxml-4.8.0                 |   py38h0a891b7_2         1.4 MB  conda-forge\n",
      "    openssl-1.1.1o             |       h166bdaf_0         2.1 MB  conda-forge\n",
      "    pandas-1.4.2               |   py38h47df419_1        12.6 MB  conda-forge\n",
      "    pillow-8.4.0               |   py38h8e6f84c_0         704 KB  conda-forge\n",
      "    pip-22.1.1                 |     pyhd8ed1ab_0         1.5 MB  conda-forge\n",
      "    py-xgboost-1.5.1           |cpu_py38h66f0ec1_2         152 KB  conda-forge\n",
      "    pyyaml-6.0                 |   py38h0a891b7_4         182 KB  conda-forge\n",
      "    sphinx-5.0.0               |     pyh6c4a22f_1         1.6 MB  conda-forge\n",
      "    websocket-client-1.3.2     |     pyhd8ed1ab_0          41 KB  conda-forge\n",
      "    werkzeug-2.1.2             |     pyhd8ed1ab_1         237 KB  conda-forge\n",
      "    xgboost-1.5.1              |cpu_py38h66f0ec1_2          12 KB  conda-forge\n",
      "    ------------------------------------------------------------\n",
      "                                           Total:        25.4 MB\n",
      "\n",
      "The following NEW packages will be INSTALLED:\n",
      "\n",
      "  _py-xgboost-mutex  conda-forge/linux-64::_py-xgboost-mutex-2.0-cpu_0\n",
      "  attrs              conda-forge/noarch::attrs-21.4.0-pyhd8ed1ab_0\n",
      "  colorama           conda-forge/noarch::colorama-0.4.4-pyh9f0ad1d_0\n",
      "  dataclasses        conda-forge/noarch::dataclasses-0.8-pyhc8e2a94_3\n",
      "  docutils           conda-forge/linux-64::docutils-0.18.1-py38h578d9bd_1\n",
      "  fsspec             conda-forge/noarch::fsspec-2022.5.0-pyhd8ed1ab_0\n",
      "  jsonschema         conda-forge/noarch::jsonschema-4.5.1-pyhd8ed1ab_0\n",
      "  libxgboost         conda-forge/linux-64::libxgboost-1.5.1-cpu_h3d145d1_2\n",
      "  lxml               conda-forge/linux-64::lxml-4.8.0-py38h0a891b7_2\n",
      "  nltk               conda-forge/noarch::nltk-3.6.7-pyhd8ed1ab_0\n",
      "  pillow             conda-forge/linux-64::pillow-8.4.0-py38h8e6f84c_0\n",
      "  pip                conda-forge/noarch::pip-22.1.1-pyhd8ed1ab_0\n",
      "  py-xgboost         conda-forge/linux-64::py-xgboost-1.5.1-cpu_py38h66f0ec1_2\n",
      "  pyyaml             conda-forge/linux-64::pyyaml-6.0-py38h0a891b7_4\n",
      "  sphinx             conda-forge/noarch::sphinx-5.0.0-pyh6c4a22f_1\n",
      "  urllib3            conda-forge/noarch::urllib3-1.26.9-pyhd8ed1ab_0\n",
      "  websocket-client   conda-forge/noarch::websocket-client-1.3.2-pyhd8ed1ab_0\n",
      "  werkzeug           conda-forge/noarch::werkzeug-2.1.2-pyhd8ed1ab_1\n",
      "  xgboost            conda-forge/linux-64::xgboost-1.5.1-cpu_py38h66f0ec1_2\n",
      "\n",
      "The following packages will be UPDATED:\n",
      "\n",
      "  ca-certificates                      2021.10.8-ha878542_0 --> 2022.5.18.1-ha878542_0\n",
      "  certifi                          2021.10.8-py38h578d9bd_1 --> 2022.5.18.1-py38h578d9bd_0\n",
      "  openssl                                 1.1.1l-h7f98852_0 --> 1.1.1o-h166bdaf_0\n",
      "  pandas                               1.3.4-py38h43a58ef_1 --> 1.4.2-py38h47df419_1\n",
      "\n",
      "\n",
      "\n",
      "Downloading and Extracting Packages\n",
      "lxml-4.8.0           | 1.4 MB    | ##################################### | 100% \n",
      "pip-22.1.1           | 1.5 MB    | ##################################### | 100% \n",
      "ca-certificates-2022 | 144 KB    | ##################################### | 100% \n",
      "dataclasses-0.8      | 10 KB     | ##################################### | 100% \n",
      "websocket-client-1.3 | 41 KB     | ##################################### | 100% \n",
      "_py-xgboost-mutex-2. | 8 KB      | ##################################### | 100% \n",
      "libxgboost-1.5.1     | 3.6 MB    | ##################################### | 100% \n",
      "certifi-2022.5.18.1  | 150 KB    | ##################################### | 100% \n",
      "werkzeug-2.1.2       | 237 KB    | ##################################### | 100% \n",
      "sphinx-5.0.0         | 1.6 MB    | ##################################### | 100% \n",
      "pyyaml-6.0           | 182 KB    | ##################################### | 100% \n",
      "colorama-0.4.4       | 18 KB     | ##################################### | 100% \n",
      "docutils-0.18.1      | 737 KB    | ##################################### | 100% \n",
      "py-xgboost-1.5.1     | 152 KB    | ##################################### | 100% \n",
      "fsspec-2022.5.0      | 96 KB     | ##################################### | 100% \n",
      "pandas-1.4.2         | 12.6 MB   | ##################################### | 100% \n",
      "jsonschema-4.5.1     | 57 KB     | ##################################### | 100% \n",
      "openssl-1.1.1o       | 2.1 MB    | ##################################### | 100% \n",
      "pillow-8.4.0         | 704 KB    | ##################################### | 100% \n",
      "xgboost-1.5.1        | 12 KB     | ##################################### | 100% \n",
      "Preparing transaction: done\n",
      "Verifying transaction: done\n",
      "Executing transaction: done\n"
     ]
    }
   ],
   "source": [
    "!conda install -y xgboost numpy pandas scipy"
   ]
  },
  {
   "cell_type": "code",
   "execution_count": 27,
   "id": "d35bbfed",
   "metadata": {},
   "outputs": [],
   "source": [
    "from xgboost import XGBClassifier\n",
    "from sklearn.ensemble import RandomForestClassifier\n",
    "from sklearn.tree import DecisionTreeClassifier\n",
    "from sklearn.model_selection import train_test_split\n",
    "from sklearn.preprocessing import StandardScaler, Normalizer\n",
    "from sklearn import metrics\n",
    "import numpy as np\n",
    "import pandas as pd\n",
    "import pickle\n",
    "from sklearn.datasets import fetch_openml"
   ]
  },
  {
   "cell_type": "code",
   "execution_count": 28,
   "id": "49b3bfd2",
   "metadata": {},
   "outputs": [],
   "source": [
    "from sklearn.model_selection import GridSearchCV"
   ]
  },
  {
   "cell_type": "code",
   "execution_count": 13,
   "id": "1f5ccb82",
   "metadata": {},
   "outputs": [
    {
     "data": {
      "text/plain": [
       "dict_keys(['data', 'target', 'frame', 'categories', 'feature_names', 'target_names', 'DESCR', 'details', 'url'])"
      ]
     },
     "execution_count": 13,
     "metadata": {},
     "output_type": "execute_result"
    }
   ],
   "source": [
    "# import the mnist dataset\n",
    "mnist = fetch_openml('mnist_784', version=1)\n",
    "mnist.keys()"
   ]
  },
  {
   "cell_type": "code",
   "execution_count": 29,
   "id": "46327a2c",
   "metadata": {},
   "outputs": [
    {
     "name": "stdout",
     "output_type": "stream",
     "text": [
      "(70000, 784)\n",
      "(70000,)\n"
     ]
    }
   ],
   "source": [
    "# separate features and target\n",
    "X, y = mnist[\"data\"], mnist[\"target\"]\n",
    "print(X.shape)\n",
    "print(y.shape)"
   ]
  },
  {
   "cell_type": "code",
   "execution_count": 30,
   "id": "6e0f63d0",
   "metadata": {},
   "outputs": [],
   "source": [
    "# train-test split\n",
    "X_train, X_test, y_train, y_test = train_test_split(X, y, \n",
    "                                       test_size=0.1, \n",
    "                                       random_state=42)"
   ]
  },
  {
   "cell_type": "code",
   "execution_count": 32,
   "id": "f72807ea",
   "metadata": {},
   "outputs": [
    {
     "name": "stdout",
     "output_type": "stream",
     "text": [
      "(63000, 784)\n",
      "(7000, 784)\n"
     ]
    }
   ],
   "source": [
    "print(X_train.shape)\n",
    "print(X_test.shape)"
   ]
  },
  {
   "cell_type": "code",
   "execution_count": 33,
   "id": "5f15b7e3",
   "metadata": {},
   "outputs": [
    {
     "name": "stdout",
     "output_type": "stream",
     "text": [
      "(63000,)\n",
      "(7000,)\n"
     ]
    }
   ],
   "source": [
    "print(y_train.shape)\n",
    "print(y_test.shape)"
   ]
  },
  {
   "cell_type": "markdown",
   "id": "10780476",
   "metadata": {},
   "source": [
    "## Data Augmentation"
   ]
  },
  {
   "cell_type": "code",
   "execution_count": 34,
   "id": "8bc8a329",
   "metadata": {},
   "outputs": [],
   "source": [
    "# Referred from https://github.com/austinlasseter/handson-ml2/blob/master/03_classification.ipynb\n",
    "# https://towardsdatascience.com/improving-accuracy-on-mnist-using-data-augmentation-b5c38eb5a903\n",
    "# https://stackoverflow.com/questions/67195851/attributeerror-str-object-has-no-attribute-reshape\n",
    "from scipy.ndimage import shift\n",
    "\n",
    "# Method to shift the image by given dimension\n",
    "def shift_image(image, dx, dy):\n",
    "    image = image.reshape((28, 28))\n",
    "    shifted_image = shift(image, [dy, dx], cval=0, mode=\"constant\")\n",
    "    return shifted_image.reshape([-1])"
   ]
  },
  {
   "cell_type": "code",
   "execution_count": 35,
   "id": "a7b58908",
   "metadata": {},
   "outputs": [],
   "source": [
    "# Creating Augmented Dataset\n",
    "X_train_augmented = [image for image in X_train]\n",
    "y_train_augmented = [image for image in y_train]\n",
    "\n",
    "for dx, dy in ((1,0), (-1,0), (0,1), (0,-1)):\n",
    "    for image, label in zip(X_train.values, y_train):\n",
    "        X_train_augmented.append(shift_image(image, dx, dy))\n",
    "        y_train_augmented.append(label)\n"
   ]
  },
  {
   "cell_type": "code",
   "execution_count": 36,
   "id": "f9e04a08",
   "metadata": {},
   "outputs": [
    {
     "name": "stdout",
     "output_type": "stream",
     "text": [
      "252784\n",
      "315000\n"
     ]
    }
   ],
   "source": [
    "print(len(X_train_augmented))\n",
    "print(len(y_train_augmented))"
   ]
  },
  {
   "cell_type": "code",
   "execution_count": 37,
   "id": "f921eddb",
   "metadata": {},
   "outputs": [],
   "source": [
    "# Shuffle the dataset\n",
    "shuffle_idx = np.random.permutation(len(X_train_augmented))\n",
    "X_train_augmented = np.array(X_train_augmented)[shuffle_idx]\n",
    "y_train_augmented = np.array(y_train_augmented)[shuffle_idx]"
   ]
  },
  {
   "cell_type": "code",
   "execution_count": 41,
   "id": "5a1f4ae2",
   "metadata": {},
   "outputs": [
    {
     "name": "stdout",
     "output_type": "stream",
     "text": [
      "252784\n",
      "252784\n"
     ]
    }
   ],
   "source": [
    "print(len(X_train_augmented))\n",
    "print(len(y_train_augmented))"
   ]
  },
  {
   "cell_type": "code",
   "execution_count": 43,
   "id": "989d050e",
   "metadata": {},
   "outputs": [],
   "source": [
    "#X_train_augmented"
   ]
  },
  {
   "cell_type": "code",
   "execution_count": 45,
   "id": "87d9afd9",
   "metadata": {},
   "outputs": [],
   "source": [
    "X_train_scaled = X_train_augmented\n",
    "y_train = y_train_augmented"
   ]
  },
  {
   "cell_type": "markdown",
   "id": "d5da0228",
   "metadata": {},
   "source": [
    "## Preprocessing"
   ]
  },
  {
   "cell_type": "code",
   "execution_count": 40,
   "id": "2cd54227",
   "metadata": {},
   "outputs": [
    {
     "ename": "ValueError",
     "evalue": "setting an array element with a sequence.",
     "output_type": "error",
     "traceback": [
      "\u001b[0;31m---------------------------------------------------------------------------\u001b[0m",
      "\u001b[0;31mTypeError\u001b[0m                                 Traceback (most recent call last)",
      "\u001b[0;31mTypeError\u001b[0m: only size-1 arrays can be converted to Python scalars",
      "\nThe above exception was the direct cause of the following exception:\n",
      "\u001b[0;31mValueError\u001b[0m                                Traceback (most recent call last)",
      "\u001b[0;32m/tmp/ipykernel_8075/3379095122.py\u001b[0m in \u001b[0;36m<cell line: 3>\u001b[0;34m()\u001b[0m\n\u001b[1;32m      1\u001b[0m \u001b[0;31m# standardize\u001b[0m\u001b[0;34m\u001b[0m\u001b[0;34m\u001b[0m\u001b[0;34m\u001b[0m\u001b[0m\n\u001b[1;32m      2\u001b[0m \u001b[0mscaler\u001b[0m \u001b[0;34m=\u001b[0m \u001b[0mStandardScaler\u001b[0m\u001b[0;34m(\u001b[0m\u001b[0;34m)\u001b[0m\u001b[0;34m\u001b[0m\u001b[0;34m\u001b[0m\u001b[0m\n\u001b[0;32m----> 3\u001b[0;31m \u001b[0mX_train_scaled\u001b[0m \u001b[0;34m=\u001b[0m \u001b[0mscaler\u001b[0m\u001b[0;34m.\u001b[0m\u001b[0mfit_transform\u001b[0m\u001b[0;34m(\u001b[0m\u001b[0mX_train\u001b[0m\u001b[0;34m)\u001b[0m\u001b[0;34m\u001b[0m\u001b[0;34m\u001b[0m\u001b[0m\n\u001b[0m\u001b[1;32m      4\u001b[0m \u001b[0mX_test_scaled\u001b[0m \u001b[0;34m=\u001b[0m \u001b[0mscaler\u001b[0m\u001b[0;34m.\u001b[0m\u001b[0mtransform\u001b[0m\u001b[0;34m(\u001b[0m\u001b[0mX_test\u001b[0m\u001b[0;34m)\u001b[0m\u001b[0;34m\u001b[0m\u001b[0;34m\u001b[0m\u001b[0m\n",
      "\u001b[0;32m~/anaconda3/envs/python3/lib/python3.8/site-packages/sklearn/base.py\u001b[0m in \u001b[0;36mfit_transform\u001b[0;34m(self, X, y, **fit_params)\u001b[0m\n\u001b[1;32m    845\u001b[0m         \u001b[0;32mif\u001b[0m \u001b[0my\u001b[0m \u001b[0;32mis\u001b[0m \u001b[0;32mNone\u001b[0m\u001b[0;34m:\u001b[0m\u001b[0;34m\u001b[0m\u001b[0;34m\u001b[0m\u001b[0m\n\u001b[1;32m    846\u001b[0m             \u001b[0;31m# fit method of arity 1 (unsupervised transformation)\u001b[0m\u001b[0;34m\u001b[0m\u001b[0;34m\u001b[0m\u001b[0;34m\u001b[0m\u001b[0m\n\u001b[0;32m--> 847\u001b[0;31m             \u001b[0;32mreturn\u001b[0m \u001b[0mself\u001b[0m\u001b[0;34m.\u001b[0m\u001b[0mfit\u001b[0m\u001b[0;34m(\u001b[0m\u001b[0mX\u001b[0m\u001b[0;34m,\u001b[0m \u001b[0;34m**\u001b[0m\u001b[0mfit_params\u001b[0m\u001b[0;34m)\u001b[0m\u001b[0;34m.\u001b[0m\u001b[0mtransform\u001b[0m\u001b[0;34m(\u001b[0m\u001b[0mX\u001b[0m\u001b[0;34m)\u001b[0m\u001b[0;34m\u001b[0m\u001b[0;34m\u001b[0m\u001b[0m\n\u001b[0m\u001b[1;32m    848\u001b[0m         \u001b[0;32melse\u001b[0m\u001b[0;34m:\u001b[0m\u001b[0;34m\u001b[0m\u001b[0;34m\u001b[0m\u001b[0m\n\u001b[1;32m    849\u001b[0m             \u001b[0;31m# fit method of arity 2 (supervised transformation)\u001b[0m\u001b[0;34m\u001b[0m\u001b[0;34m\u001b[0m\u001b[0;34m\u001b[0m\u001b[0m\n",
      "\u001b[0;32m~/anaconda3/envs/python3/lib/python3.8/site-packages/sklearn/preprocessing/_data.py\u001b[0m in \u001b[0;36mfit\u001b[0;34m(self, X, y, sample_weight)\u001b[0m\n\u001b[1;32m    804\u001b[0m         \u001b[0;31m# Reset internal state before fitting\u001b[0m\u001b[0;34m\u001b[0m\u001b[0;34m\u001b[0m\u001b[0;34m\u001b[0m\u001b[0m\n\u001b[1;32m    805\u001b[0m         \u001b[0mself\u001b[0m\u001b[0;34m.\u001b[0m\u001b[0m_reset\u001b[0m\u001b[0;34m(\u001b[0m\u001b[0;34m)\u001b[0m\u001b[0;34m\u001b[0m\u001b[0;34m\u001b[0m\u001b[0m\n\u001b[0;32m--> 806\u001b[0;31m         \u001b[0;32mreturn\u001b[0m \u001b[0mself\u001b[0m\u001b[0;34m.\u001b[0m\u001b[0mpartial_fit\u001b[0m\u001b[0;34m(\u001b[0m\u001b[0mX\u001b[0m\u001b[0;34m,\u001b[0m \u001b[0my\u001b[0m\u001b[0;34m,\u001b[0m \u001b[0msample_weight\u001b[0m\u001b[0;34m)\u001b[0m\u001b[0;34m\u001b[0m\u001b[0;34m\u001b[0m\u001b[0m\n\u001b[0m\u001b[1;32m    807\u001b[0m \u001b[0;34m\u001b[0m\u001b[0m\n\u001b[1;32m    808\u001b[0m     \u001b[0;32mdef\u001b[0m \u001b[0mpartial_fit\u001b[0m\u001b[0;34m(\u001b[0m\u001b[0mself\u001b[0m\u001b[0;34m,\u001b[0m \u001b[0mX\u001b[0m\u001b[0;34m,\u001b[0m \u001b[0my\u001b[0m\u001b[0;34m=\u001b[0m\u001b[0;32mNone\u001b[0m\u001b[0;34m,\u001b[0m \u001b[0msample_weight\u001b[0m\u001b[0;34m=\u001b[0m\u001b[0;32mNone\u001b[0m\u001b[0;34m)\u001b[0m\u001b[0;34m:\u001b[0m\u001b[0;34m\u001b[0m\u001b[0;34m\u001b[0m\u001b[0m\n",
      "\u001b[0;32m~/anaconda3/envs/python3/lib/python3.8/site-packages/sklearn/preprocessing/_data.py\u001b[0m in \u001b[0;36mpartial_fit\u001b[0;34m(self, X, y, sample_weight)\u001b[0m\n\u001b[1;32m    839\u001b[0m         \"\"\"\n\u001b[1;32m    840\u001b[0m         \u001b[0mfirst_call\u001b[0m \u001b[0;34m=\u001b[0m \u001b[0;32mnot\u001b[0m \u001b[0mhasattr\u001b[0m\u001b[0;34m(\u001b[0m\u001b[0mself\u001b[0m\u001b[0;34m,\u001b[0m \u001b[0;34m\"n_samples_seen_\"\u001b[0m\u001b[0;34m)\u001b[0m\u001b[0;34m\u001b[0m\u001b[0;34m\u001b[0m\u001b[0m\n\u001b[0;32m--> 841\u001b[0;31m         X = self._validate_data(\n\u001b[0m\u001b[1;32m    842\u001b[0m             \u001b[0mX\u001b[0m\u001b[0;34m,\u001b[0m\u001b[0;34m\u001b[0m\u001b[0;34m\u001b[0m\u001b[0m\n\u001b[1;32m    843\u001b[0m             \u001b[0maccept_sparse\u001b[0m\u001b[0;34m=\u001b[0m\u001b[0;34m(\u001b[0m\u001b[0;34m\"csr\"\u001b[0m\u001b[0;34m,\u001b[0m \u001b[0;34m\"csc\"\u001b[0m\u001b[0;34m)\u001b[0m\u001b[0;34m,\u001b[0m\u001b[0;34m\u001b[0m\u001b[0;34m\u001b[0m\u001b[0m\n",
      "\u001b[0;32m~/anaconda3/envs/python3/lib/python3.8/site-packages/sklearn/base.py\u001b[0m in \u001b[0;36m_validate_data\u001b[0;34m(self, X, y, reset, validate_separately, **check_params)\u001b[0m\n\u001b[1;32m    559\u001b[0m             \u001b[0;32mraise\u001b[0m \u001b[0mValueError\u001b[0m\u001b[0;34m(\u001b[0m\u001b[0;34m\"Validation should be done on X, y or both.\"\u001b[0m\u001b[0;34m)\u001b[0m\u001b[0;34m\u001b[0m\u001b[0;34m\u001b[0m\u001b[0m\n\u001b[1;32m    560\u001b[0m         \u001b[0;32melif\u001b[0m \u001b[0;32mnot\u001b[0m \u001b[0mno_val_X\u001b[0m \u001b[0;32mand\u001b[0m \u001b[0mno_val_y\u001b[0m\u001b[0;34m:\u001b[0m\u001b[0;34m\u001b[0m\u001b[0;34m\u001b[0m\u001b[0m\n\u001b[0;32m--> 561\u001b[0;31m             \u001b[0mX\u001b[0m \u001b[0;34m=\u001b[0m \u001b[0mcheck_array\u001b[0m\u001b[0;34m(\u001b[0m\u001b[0mX\u001b[0m\u001b[0;34m,\u001b[0m \u001b[0;34m**\u001b[0m\u001b[0mcheck_params\u001b[0m\u001b[0;34m)\u001b[0m\u001b[0;34m\u001b[0m\u001b[0;34m\u001b[0m\u001b[0m\n\u001b[0m\u001b[1;32m    562\u001b[0m             \u001b[0mout\u001b[0m \u001b[0;34m=\u001b[0m \u001b[0mX\u001b[0m\u001b[0;34m\u001b[0m\u001b[0;34m\u001b[0m\u001b[0m\n\u001b[1;32m    563\u001b[0m         \u001b[0;32melif\u001b[0m \u001b[0mno_val_X\u001b[0m \u001b[0;32mand\u001b[0m \u001b[0;32mnot\u001b[0m \u001b[0mno_val_y\u001b[0m\u001b[0;34m:\u001b[0m\u001b[0;34m\u001b[0m\u001b[0;34m\u001b[0m\u001b[0m\n",
      "\u001b[0;32m~/anaconda3/envs/python3/lib/python3.8/site-packages/sklearn/utils/validation.py\u001b[0m in \u001b[0;36mcheck_array\u001b[0;34m(array, accept_sparse, accept_large_sparse, dtype, order, copy, force_all_finite, ensure_2d, allow_nd, ensure_min_samples, ensure_min_features, estimator)\u001b[0m\n\u001b[1;32m    736\u001b[0m                     \u001b[0marray\u001b[0m \u001b[0;34m=\u001b[0m \u001b[0marray\u001b[0m\u001b[0;34m.\u001b[0m\u001b[0mastype\u001b[0m\u001b[0;34m(\u001b[0m\u001b[0mdtype\u001b[0m\u001b[0;34m,\u001b[0m \u001b[0mcasting\u001b[0m\u001b[0;34m=\u001b[0m\u001b[0;34m\"unsafe\"\u001b[0m\u001b[0;34m,\u001b[0m \u001b[0mcopy\u001b[0m\u001b[0;34m=\u001b[0m\u001b[0;32mFalse\u001b[0m\u001b[0;34m)\u001b[0m\u001b[0;34m\u001b[0m\u001b[0;34m\u001b[0m\u001b[0m\n\u001b[1;32m    737\u001b[0m                 \u001b[0;32melse\u001b[0m\u001b[0;34m:\u001b[0m\u001b[0;34m\u001b[0m\u001b[0;34m\u001b[0m\u001b[0m\n\u001b[0;32m--> 738\u001b[0;31m                     \u001b[0marray\u001b[0m \u001b[0;34m=\u001b[0m \u001b[0mnp\u001b[0m\u001b[0;34m.\u001b[0m\u001b[0masarray\u001b[0m\u001b[0;34m(\u001b[0m\u001b[0marray\u001b[0m\u001b[0;34m,\u001b[0m \u001b[0morder\u001b[0m\u001b[0;34m=\u001b[0m\u001b[0morder\u001b[0m\u001b[0;34m,\u001b[0m \u001b[0mdtype\u001b[0m\u001b[0;34m=\u001b[0m\u001b[0mdtype\u001b[0m\u001b[0;34m)\u001b[0m\u001b[0;34m\u001b[0m\u001b[0;34m\u001b[0m\u001b[0m\n\u001b[0m\u001b[1;32m    739\u001b[0m             \u001b[0;32mexcept\u001b[0m \u001b[0mComplexWarning\u001b[0m \u001b[0;32mas\u001b[0m \u001b[0mcomplex_warning\u001b[0m\u001b[0;34m:\u001b[0m\u001b[0;34m\u001b[0m\u001b[0;34m\u001b[0m\u001b[0m\n\u001b[1;32m    740\u001b[0m                 raise ValueError(\n",
      "\u001b[0;32m~/anaconda3/envs/python3/lib/python3.8/site-packages/numpy/core/_asarray.py\u001b[0m in \u001b[0;36masarray\u001b[0;34m(a, dtype, order)\u001b[0m\n\u001b[1;32m     83\u001b[0m \u001b[0;34m\u001b[0m\u001b[0m\n\u001b[1;32m     84\u001b[0m     \"\"\"\n\u001b[0;32m---> 85\u001b[0;31m     \u001b[0;32mreturn\u001b[0m \u001b[0marray\u001b[0m\u001b[0;34m(\u001b[0m\u001b[0ma\u001b[0m\u001b[0;34m,\u001b[0m \u001b[0mdtype\u001b[0m\u001b[0;34m,\u001b[0m \u001b[0mcopy\u001b[0m\u001b[0;34m=\u001b[0m\u001b[0;32mFalse\u001b[0m\u001b[0;34m,\u001b[0m \u001b[0morder\u001b[0m\u001b[0;34m=\u001b[0m\u001b[0morder\u001b[0m\u001b[0;34m)\u001b[0m\u001b[0;34m\u001b[0m\u001b[0;34m\u001b[0m\u001b[0m\n\u001b[0m\u001b[1;32m     86\u001b[0m \u001b[0;34m\u001b[0m\u001b[0m\n\u001b[1;32m     87\u001b[0m \u001b[0;34m\u001b[0m\u001b[0m\n",
      "\u001b[0;31mValueError\u001b[0m: setting an array element with a sequence."
     ]
    }
   ],
   "source": [
    "# standardize\n",
    "scaler = StandardScaler()\n",
    "X_train_scaled = scaler.fit_transform(X_train)\n",
    "X_test_scaled = scaler.transform(X_test)"
   ]
  },
  {
   "cell_type": "markdown",
   "id": "50f09180",
   "metadata": {},
   "source": [
    "## Random Forest"
   ]
  },
  {
   "cell_type": "code",
   "execution_count": 46,
   "id": "441a0434",
   "metadata": {},
   "outputs": [],
   "source": [
    "# modeling: random forest (arbitrary hyperparameters)\n",
    "model = RandomForestClassifier()"
   ]
  },
  {
   "cell_type": "code",
   "execution_count": 47,
   "id": "cf89b51f",
   "metadata": {},
   "outputs": [],
   "source": [
    "# define your parameter grid \n",
    "param_grid = {\n",
    "                'max_depth': [5, 10, 15],\n",
    "                #'criterion': ['entropy', 'gini'],\n",
    "                'criterion': ['entropy'],\n",
    "                'min_samples_leaf': [6, 10, 20],\n",
    "                'class_weight':['balanced', None],\n",
    "                'n_estimators': [50, 100, 200]\n",
    "            }"
   ]
  },
  {
   "cell_type": "code",
   "execution_count": 48,
   "id": "94fdf371",
   "metadata": {},
   "outputs": [],
   "source": [
    "# establish cross-validation and gridsearch\n",
    "rf_grid = GridSearchCV(model, param_grid, cv=10, verbose=1,n_jobs=-1)"
   ]
  },
  {
   "cell_type": "code",
   "execution_count": null,
   "id": "f4f30d32",
   "metadata": {},
   "outputs": [
    {
     "name": "stdout",
     "output_type": "stream",
     "text": [
      "Fitting 10 folds for each of 54 candidates, totalling 540 fits\n"
     ]
    }
   ],
   "source": [
    "# conduct the search (this cell will take a very long time!)\n",
    "rf_grid.fit(X_train_scaled, y_train)"
   ]
  },
  {
   "cell_type": "code",
   "execution_count": null,
   "id": "9ca51708",
   "metadata": {},
   "outputs": [],
   "source": [
    "# see the best parameters and their score\n",
    "print(\"Best parameters:\")\n",
    "print(rf_grid.best_params_)\n",
    "print(\"Best score in grid search:\")\n",
    "print(rf_grid.best_score_)\n",
    "print(\"best model from grid search:\")\n",
    "print(rf_grid.score(X_test_scaled, y_test))"
   ]
  },
  {
   "cell_type": "code",
   "execution_count": null,
   "id": "56bb70ad",
   "metadata": {},
   "outputs": [],
   "source": [
    "# predict\n",
    "y_preds=rf_grid.predict(X_test_scaled)\n",
    "print(list(y_preds[:10]))\n",
    "print(list(y_test[:10]))"
   ]
  },
  {
   "cell_type": "code",
   "execution_count": null,
   "id": "73de9ffe",
   "metadata": {},
   "outputs": [],
   "source": [
    "# evaluate\n",
    "print('Accuracy:', metrics.accuracy_score(y_test, y_preds))\n",
    "print('Precision:', metrics.precision_score(y_test, y_preds,average='macro'))\n",
    "print('Recall:', metrics.recall_score(y_test, y_preds,average='macro'))\n",
    "print('F1 Score:', metrics.f1_score(y_test, y_preds,average='macro'))"
   ]
  },
  {
   "cell_type": "markdown",
   "id": "699052c5",
   "metadata": {},
   "source": [
    "## Pickle the model"
   ]
  },
  {
   "cell_type": "code",
   "execution_count": null,
   "id": "2ae420d3",
   "metadata": {},
   "outputs": [],
   "source": [
    "# random forest\n",
    "f = open('rf_grid_model.pkl', 'wb')\n",
    "pickle.dump(rf_grid, f)\n",
    "f.close() "
   ]
  },
  {
   "cell_type": "markdown",
   "id": "a5076fcf",
   "metadata": {},
   "source": [
    "## END"
   ]
  },
  {
   "cell_type": "code",
   "execution_count": null,
   "id": "9af8a87f",
   "metadata": {},
   "outputs": [],
   "source": []
  }
 ],
 "metadata": {
  "kernelspec": {
   "display_name": "conda_python3",
   "language": "python",
   "name": "conda_python3"
  },
  "language_info": {
   "codemirror_mode": {
    "name": "ipython",
    "version": 3
   },
   "file_extension": ".py",
   "mimetype": "text/x-python",
   "name": "python",
   "nbconvert_exporter": "python",
   "pygments_lexer": "ipython3",
   "version": "3.8.12"
  }
 },
 "nbformat": 4,
 "nbformat_minor": 5
}
